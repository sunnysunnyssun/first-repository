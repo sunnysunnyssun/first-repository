{
 "cells": [
  {
   "cell_type": "markdown",
   "metadata": {},
   "source": [
    "## n면체 주사위 만들기 Quest 04\n",
    "### 1. Quest 조건\n",
    "- 주사위 게임\n",
    "- 사용자가 원하면 주사위 숫자의 수는 달라질 수 있는 n면체 주사위를 클래스를 이용\n",
    "- 기능\n",
    "    - 주사위의 면의 개수 n을 입력할 수 있다.\n",
    "    - 주사위를 던지면 1~n  눈의 수 중에서 랜덤으로  값을 출력"
   ]
  },
  {
   "cell_type": "markdown",
   "metadata": {},
   "source": [
    "### 2. 나의 설계\n",
    "+ 필요한 속성 \n",
    "    + 주사의 면의 개수(num) : 인스턴스 생성 시 입력받을 수 있음. 입력이 없을시에는 기본값 6으로 셋팅\n",
    "    + 주사위 결과(result) : 주사위를 던졌을때 나온 결과 값 (랜덤으로 1~면의개수의 정수 중에 한 값을 가져옴)\n",
    "    + 조커 num (joker_num) : 설정된 조커 숫자가 나오면 한 번 더 던질 수 있는 기회를 준다. 인스턴스 생성 시 주사위 면의 갯수가 설정되면 set_joker 메서드로 랜덤으로 조커num을 설정한다. 주사위 결과가 조커num이 나오면 주사위를 한번 더 던지는 기회를 주고 조커num을 0으로 설정해 추가 기회는 없게함.\n",
    "+ 필요한 메서드\n",
    "    + 주사위 던지기 (roll_the_dice()) : 조커 번호를 알려주고(get_joker()), 주사위 결과를 설정하고(랜덤)(set_result()),\n",
    "    + 랜덤 정 수뽑기 (get_randint(start=1,end=6)) : start~end 사이의 랜덤한 정수 1개를 반환함\n",
    "    + 주사위 결과 설정 (set_result()) : 주사위 결과를 1~면의개수 사이에 정수 1개로 랜덤하게 설정\n",
    "    + 주사위 결과 보기 (get_result()) : 설정된 주사위 결과값 출력 및 반환\n",
    "    + 조커num 설정 (set_joker(joker_num=0)) : 조거 결과를 1~면의개수 사이에 정수 1개로 랜덤하게 설정\n",
    "    + 조커num 결과 보기 (get_joker()) : 조커의 결과 출력 및 반환\n"
   ]
  },
  {
   "cell_type": "markdown",
   "metadata": {},
   "source": [
    "### 3. 코드"
   ]
  },
  {
   "cell_type": "code",
   "execution_count": 103,
   "metadata": {},
   "outputs": [
    {
     "name": "stdout",
     "output_type": "stream",
     "text": [
      "설정된 주사위 면의 개수: 5\n",
      "주사위를 던집니다.\n",
      "조커값은 4 입니다.\n",
      "주사위 값은 4 입니다.\n",
      "조커 값이 나왔습니다. 주사위를 다시 한번 던집니다\n",
      "최종 주사위 숫자 : 5\n"
     ]
    }
   ],
   "source": [
    "import random as rd \n",
    "\n",
    "class FunnyDice() :\n",
    "\n",
    "    def __init__ (self, n=6) : \n",
    "        self.n = n          # 주사위 면 수\n",
    "        self.val = 0        # 주사위 결과값\n",
    "        self.joker_val=0    # 주사위 다시 던지는 조커값\n",
    "        \n",
    "    def throw(self) :\n",
    "        print('주사위를 던집니다.')        \n",
    "        self.setval()           # 주사위값 랜덤 설정\n",
    "        self.set_joker_val()    # 조커값 설정                               \n",
    "        if(self.joker_val==self.val) : # 조커값과 주사위결과값이 같다면\n",
    "            self.print_joker_val()  # 조커값 출력\n",
    "            self.printval()         # 주사위값 출력\n",
    "            print(\"조커 값이 나왔습니다. 주사위를 다시 한번 던집니다\")\n",
    "            self.set_joker_val(0)   # 조커값 0으로 초기화\n",
    "            self.setval(-1)           # 주사위값 랜덤 설정\n",
    "            #self.printval()            \n",
    "      \n",
    "    def getval(self):\n",
    "        return self.val\n",
    "\n",
    "    def setval(self,val=0):        \n",
    "        val = int(val)\n",
    "        if self.val==0 : \n",
    "            # val값이 기본값(0)이 경우  \n",
    "            # 주사위 면의 수와 같거나 동일할 경우 1~n사이의 정수 값을 가져와서 val 설정             \n",
    "            self.val = self.get_rand_int()            \n",
    "        elif val ==-1 : \n",
    "            # 재 도전\n",
    "            self.val = self.get_rand_int()\n",
    "            \n",
    "        elif 0<val and val <= self.n :\n",
    "            # n값을 지정할 경우 주사위 범위 내에 해당하는 값이면 n값대로 설정\n",
    "            self.val = val            \n",
    "        else : \n",
    "            msg = f\"주사위에 없는 숫자입니다. 주사위는 1 ~ {self.n}까지 있습니다.\"\n",
    "\n",
    "            raise ValueError(msg)\n",
    "        \n",
    "        \n",
    "    def printval(self):\n",
    "        print('주사위 값은',self.val,'입니다.')\n",
    "\n",
    "    def get_joker_val(self):\n",
    "        # 조커 값을 반환함.\n",
    "        return self.joker_val\n",
    "    \n",
    "    def set_joker_val(self, n=0):\n",
    "        if self.joker_val==0 :\n",
    "            # 조커값이 0(초기값)이면 1~n사이의 랜덤 값을 가져와서 조커값을 설정함\n",
    "            self.joker_val= self.get_rand_int()\n",
    "        else : \n",
    "            # 기존의 조거값을 n값으로 변경(0이될수도 있고 직접 지정할수도 있음.) \n",
    "            self.joker_val==n       \n",
    "\n",
    "    def print_joker_val(self):\n",
    "        print('조커값은',self.joker_val,'입니다.')\n",
    "            \n",
    "    def get_rand_int(self):\n",
    "        # 1~n(주사위면의수) 사이의 정수값을 랜덤으로 반환\n",
    "        return rd.randint(1,self.n)\n",
    "        \n",
    "def get_inputs():\n",
    "    n = int(input(\"주사위 면의 개수를 입력하세요: \"))\n",
    "    return n\n",
    "\n",
    "def main():\n",
    "    n = get_inputs()\n",
    "    print(\"설정된 주사위 면의 개수:\",n)\n",
    "    mydice = FunnyDice(n)\n",
    "    mydice.throw()\n",
    "    print(\"최종 주사위 숫자 : {0}\".format(mydice.getval()))\n",
    "    \n",
    "if __name__ == '__main__':\n",
    "    main()\n",
    "\n"
   ]
  },
  {
   "cell_type": "markdown",
   "metadata": {},
   "source": [
    "### 4. 프로젝트 회고"
   ]
  },
  {
   "cell_type": "markdown",
   "metadata": {},
   "source": [
    "\n",
    "#### 1) 느낀점\n",
    "파이썬 노드를 공부하고 간단한 프로젝트를 만들었다.\n",
    "파이썬 사용을 기본적으로 할 줄 알아서 크게 어려운 점은 없었고\n",
    "추가로 조커 기능을 커스텀하여 넣어서 스스로 조건을 생각하고 변수와 메서드를 추가해보았다. \n",
    "\n",
    "#### 2) 심화\n",
    "그리고 노드에서 제공된 코드 중에 \n",
    "if __name__ == '__main__': \n",
    "해당 구문이 생소하여 따로 조사하여 공부해보았다.\n",
    "\n",
    "'name이라는 변수의 값이 main이라면 아래의 코드를 실행하라는 뜻인데\n",
    "메인 함수의 선언, 시작을 의미하고, 현재 스크립트 파일이 실행되는 상태를 파악하기 위해 사용한다고 한다. 파이썬의 코드는 main 함수가 따로 존재하지 않는데  보통 들여쓰기를 통해 코드의 실행 레벨을 결정한다. \n",
    "\n",
    "__name__ 내장변수은 현재 모듈의 이름을 담고 있는 내장 변수로서, 직접 실행된 모듈의 경우는 __main__이라는 값을 가지게 되고, 직접 실행되지 않은 import 된 모듈은 모듈의 이름(파일명)을 가지게 된다. 어떤 스크립트 파일이든 파이썬 인터프리터가 최초로 실행한 스크립트 파일의 __name__ 에는 '__main__'이 들어간다. 이는 프로그램의 시작점(entry point)라는 뜻이다.\n",
    "\n",
    "쉽게 생각하면 모듈에 if __name__=='__main__'이라는 조건문을 넣어주고 그 아래는 직접 실행시켰을 때만 실행되길 원하는 코드들을 넣어주는 것으로 생각하면 쉬울 것\n",
    "\n",
    "#### 3) 참조\n",
    "[if __name__ == “__main__”은 왜 필요한지에 대해 알아보자](https://velog.io/@mjk3136/if-name-main%EC%9D%80-%EC%99%9C-%ED%95%84%EC%9A%94%ED%95%9C%EC%A7%80%EC%97%90-%EB%8C%80%ED%95%B4-%EC%95%8C%EC%95%84%EB%B3%B4%EC%9E%90)"
   ]
  }
 ],
 "metadata": {
  "kernelspec": {
   "display_name": "Python 3",
   "language": "python",
   "name": "python3"
  },
  "language_info": {
   "codemirror_mode": {
    "name": "ipython",
    "version": 3
   },
   "file_extension": ".py",
   "mimetype": "text/x-python",
   "name": "python",
   "nbconvert_exporter": "python",
   "pygments_lexer": "ipython3",
   "version": "3.10.9"
  },
  "orig_nbformat": 4
 },
 "nbformat": 4,
 "nbformat_minor": 2
}
