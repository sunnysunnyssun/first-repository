{
 "cells": [
  {
   "cell_type": "markdown",
   "metadata": {},
   "source": [
    "## 2. Iris의 세 가지 품종, 분류해볼 수 있겠어요? [프로젝트]\n"
   ]
  },
  {
   "cell_type": "markdown",
   "metadata": {},
   "source": [
    "### 2-1. 프로젝트 (1) load_digits : 손글씨를 분류해 봅시다\n"
   ]
  },
  {
   "cell_type": "code",
   "execution_count": 98,
   "metadata": {},
   "outputs": [
    {
     "name": "stdout",
     "output_type": "stream",
     "text": [
      "1.2.1\n"
     ]
    }
   ],
   "source": [
    "import sklearn\n",
    "\n",
    "print(sklearn.__version__)"
   ]
  },
  {
   "cell_type": "markdown",
   "metadata": {},
   "source": [
    "#### (1) 필요한 모듈 import 하기"
   ]
  },
  {
   "cell_type": "code",
   "execution_count": 99,
   "metadata": {},
   "outputs": [],
   "source": [
    "from sklearn.datasets import load_digits\n",
    "from sklearn.model_selection import train_test_split\n",
    "from sklearn.metrics import classification_report\n",
    "from sklearn.metrics import accuracy_score, precision_score,recall_score,f1_score,confusion_matrix\n",
    "# 정확도, 정밀도, 재현율,F1점수, 혼돈행렬\n",
    "\n",
    "\n",
    "from sklearn.tree import DecisionTreeClassifier # 의사결정트리 분류기를 사용하기 위해 import\n",
    "from sklearn.ensemble import RandomForestClassifier #랜덤포레스트라 분류기를 사용하기 위해 import\n",
    "from sklearn import svm # Support Vector Machine을 사용하기 위해 import\n",
    "from sklearn.linear_model import SGDClassifier # 선형분류기인 SGDClassifier를 사용하기 위한 import\n",
    "from sklearn.linear_model import LogisticRegression # 선형분류기인 LogisticRegression를 사용하기 위한 import"
   ]
  },
  {
   "cell_type": "markdown",
   "metadata": {},
   "source": [
    "#### (2) 데이터 준비\n",
    "+ load_digit()"
   ]
  },
  {
   "cell_type": "code",
   "execution_count": 100,
   "metadata": {},
   "outputs": [
    {
     "data": {
      "text/plain": [
       "dict_keys(['data', 'target', 'frame', 'feature_names', 'target_names', 'images', 'DESCR'])"
      ]
     },
     "execution_count": 100,
     "metadata": {},
     "output_type": "execute_result"
    }
   ],
   "source": [
    "digits = load_digits() # 데이터셋 가져오기\n",
    "digits.keys()"
   ]
  },
  {
   "cell_type": "markdown",
   "metadata": {},
   "source": [
    "#### (3) 데이터 이해하기\n",
    "+ Feature Data 지정하기\n",
    "+ Label Data 지정하기\n",
    "+ Target Names 출력해 보기\n",
    "+ 데이터 Describe 해 보기"
   ]
  },
  {
   "cell_type": "code",
   "execution_count": 101,
   "metadata": {},
   "outputs": [],
   "source": [
    "digits_data = digits.data # Feature Data 지정\n",
    "digits_label = digits.target # LabelData 지정"
   ]
  },
  {
   "cell_type": "code",
   "execution_count": 102,
   "metadata": {},
   "outputs": [
    {
     "data": {
      "text/plain": [
       "array([0, 1, 2, 3, 4, 5, 6, 7, 8, 9])"
      ]
     },
     "execution_count": 102,
     "metadata": {},
     "output_type": "execute_result"
    }
   ],
   "source": [
    "# target names 출력해보기\n",
    "digits.target_names"
   ]
  },
  {
   "cell_type": "code",
   "execution_count": 103,
   "metadata": {},
   "outputs": [
    {
     "name": "stdout",
     "output_type": "stream",
     "text": [
      ".. _digits_dataset:\n",
      "\n",
      "Optical recognition of handwritten digits dataset\n",
      "--------------------------------------------------\n",
      "\n",
      "**Data Set Characteristics:**\n",
      "\n",
      "    :Number of Instances: 1797\n",
      "    :Number of Attributes: 64\n",
      "    :Attribute Information: 8x8 image of integer pixels in the range 0..16.\n",
      "    :Missing Attribute Values: None\n",
      "    :Creator: E. Alpaydin (alpaydin '@' boun.edu.tr)\n",
      "    :Date: July; 1998\n",
      "\n",
      "This is a copy of the test set of the UCI ML hand-written digits datasets\n",
      "https://archive.ics.uci.edu/ml/datasets/Optical+Recognition+of+Handwritten+Digits\n",
      "\n",
      "The data set contains images of hand-written digits: 10 classes where\n",
      "each class refers to a digit.\n",
      "\n",
      "Preprocessing programs made available by NIST were used to extract\n",
      "normalized bitmaps of handwritten digits from a preprinted form. From a\n",
      "total of 43 people, 30 contributed to the training set and different 13\n",
      "to the test set. 32x32 bitmaps are divided into nonoverlapping blocks of\n",
      "4x4 and the number of on pixels are counted in each block. This generates\n",
      "an input matrix of 8x8 where each element is an integer in the range\n",
      "0..16. This reduces dimensionality and gives invariance to small\n",
      "distortions.\n",
      "\n",
      "For info on NIST preprocessing routines, see M. D. Garris, J. L. Blue, G.\n",
      "T. Candela, D. L. Dimmick, J. Geist, P. J. Grother, S. A. Janet, and C.\n",
      "L. Wilson, NIST Form-Based Handprint Recognition System, NISTIR 5469,\n",
      "1994.\n",
      "\n",
      ".. topic:: References\n",
      "\n",
      "  - C. Kaynak (1995) Methods of Combining Multiple Classifiers and Their\n",
      "    Applications to Handwritten Digit Recognition, MSc Thesis, Institute of\n",
      "    Graduate Studies in Science and Engineering, Bogazici University.\n",
      "  - E. Alpaydin, C. Kaynak (1998) Cascading Classifiers, Kybernetika.\n",
      "  - Ken Tang and Ponnuthurai N. Suganthan and Xi Yao and A. Kai Qin.\n",
      "    Linear dimensionalityreduction using relevance weighted LDA. School of\n",
      "    Electrical and Electronic Engineering Nanyang Technological University.\n",
      "    2005.\n",
      "  - Claudio Gentile. A New Approximate Maximal Margin Classification\n",
      "    Algorithm. NIPS. 2000.\n",
      "\n"
     ]
    }
   ],
   "source": [
    "# 데이터 describe 해보기\n",
    "print(digits.DESCR)"
   ]
  },
  {
   "cell_type": "markdown",
   "metadata": {},
   "source": [
    "#### (4) train, test 데이터 분리\n"
   ]
  },
  {
   "cell_type": "code",
   "execution_count": 104,
   "metadata": {},
   "outputs": [
    {
     "name": "stdout",
     "output_type": "stream",
     "text": [
      "(1437, 64) (1437,)\n",
      "(360, 64) (360,)\n"
     ]
    }
   ],
   "source": [
    "X_train, X_test, y_train, y_test = train_test_split(digits_data, digits_label, test_size=0.2, random_state=32)\n",
    "print(X_train.shape,y_train.shape)\n",
    "print(X_test.shape,y_test.shape)"
   ]
  },
  {
   "cell_type": "markdown",
   "metadata": {},
   "source": [
    "#### (5) 다양한 모델로 학습시켜보기\n",
    "+ Decision Tree 사용해 보기\n",
    "+ Random Forest 사용해 보기\n",
    "+ SVM 사용해 보기\n",
    "+ SGD Classifier 사용해 보기\n",
    "+ Logistic Regression 사용해 보기"
   ]
  },
  {
   "cell_type": "code",
   "execution_count": 105,
   "metadata": {},
   "outputs": [
    {
     "name": "stdout",
     "output_type": "stream",
     "text": [
      "decision_tree_accuracy :  0.875\n",
      "random_forest_accuracy : 0.9861111111111112\n",
      "svm_model_accuracy : 0.9944444444444445\n",
      "sgd_model_accuracy : 0.9527777777777777\n",
      "logistic_model_accuracy : 0.975\n"
     ]
    }
   ],
   "source": [
    "# Decision Tree 사용해 보기\n",
    "decision_tree = DecisionTreeClassifier(random_state=32) # decisionTree 분류기 객체 생성\n",
    "decision_tree.fit(X_train, y_train)\n",
    "decision_tree_y_pred = decision_tree.predict(X_test)\n",
    "print('decision_tree_accuracy : ',accuracy_score(y_test, decision_tree_y_pred))\n",
    "\n",
    "\n",
    "# Random Forest 사용해 보기\n",
    "random_forest = RandomForestClassifier(random_state=32) # RandomForest 분류기 객체 생성\n",
    "random_forest.fit(X_train, y_train)\n",
    "random_forest_y_pred = random_forest.predict(X_test)\n",
    "print('random_forest_accuracy :', accuracy_score(y_test, random_forest_y_pred))\n",
    "\n",
    "\n",
    "# SVM 사용해 보기\n",
    "svm_model = svm.SVC(random_state=32) # SVM 모델 객체 생성\n",
    "svm_model.fit(X_train, y_train)\n",
    "svm_model_y_pred = svm_model.predict(X_test)\n",
    "print('svm_model_accuracy :', accuracy_score(y_test, svm_model_y_pred))\n",
    "\n",
    "# SGD Classifier 사용해 보기\n",
    "sgd_model = SGDClassifier(random_state=32) # SGD Classifier 모델 객체 생성\n",
    "sgd_model.fit(X_train, y_train)\n",
    "sgd_model_y_pred = sgd_model.predict(X_test)\n",
    "print('sgd_model_accuracy :', accuracy_score(y_test, sgd_model_y_pred))\n",
    "\n",
    "# Logistic Regression 사용해 보기\n",
    "logistic_model = LogisticRegression(max_iter=3000,random_state=32) # Logistic Regression  모델 객체 생성\n",
    "logistic_model.fit(X_train, y_train)\n",
    "logistic_model_y_pred = logistic_model.predict(X_test)\n",
    "print('logistic_model_accuracy :', accuracy_score(y_test, logistic_model_y_pred))\n"
   ]
  },
  {
   "cell_type": "markdown",
   "metadata": {},
   "source": [
    "#### (6) 모델을 평가해 보기\n"
   ]
  },
  {
   "cell_type": "code",
   "execution_count": 106,
   "metadata": {
    "tags": []
   },
   "outputs": [
    {
     "name": "stdout",
     "output_type": "stream",
     "text": [
      "decision_tree_accuracy : 0.88\n",
      "decision_tree_precision : 0.88\n",
      "decision_tree_recall : 0.87\n",
      "decision_tree_f1 : 0.87\n",
      "------------------------------------------------\n",
      "random_forest_accuracy : 0.99\n",
      "random_forest_precision : 0.98\n",
      "random_forest_recall : 0.98\n",
      "random_forest_f1 : 0.98\n",
      "------------------------------------------------\n",
      "svm_model_accuracy : 0.99\n",
      "svm_model_precision : 0.99\n",
      "svm_model_recall : 0.99\n",
      "svm_model_f1 : 0.99\n",
      "------------------------------------------------\n",
      "sgd_model_accuracy : 0.95\n",
      "sgd_model_precision : 0.96\n",
      "sgd_model_recall : 0.95\n",
      "sgd_model_f1 : 0.95\n",
      "------------------------------------------------\n",
      "logistic_model_accuracy : 0.97\n",
      "logistic_model_precision : 0.97\n",
      "logistic_model_recall : 0.97\n",
      "logistic_model_f1 : 0.97\n"
     ]
    }
   ],
   "source": [
    "\n",
    "decision_tree_accuracy = accuracy_score(y_test, decision_tree_y_pred)\n",
    "decision_tree_precision = precision_score(y_test, decision_tree_y_pred, average='macro')  # 'macro'는 다중 클래스 문제에 대한 평균을 의미합니다.\n",
    "decision_tree_recall = recall_score(y_test, decision_tree_y_pred, average='macro')\n",
    "decision_tree_f1 = f1_score(y_test, decision_tree_y_pred, average='macro')\n",
    "decision_tree_cm = confusion_matrix(y_test, decision_tree_y_pred)\n",
    "print(f'decision_tree_accuracy : {decision_tree_accuracy:.2f}')\n",
    "print(f'decision_tree_precision : {decision_tree_precision:.2f}')\n",
    "print(f'decision_tree_recall : {decision_tree_recall:.2f}')\n",
    "print(f'decision_tree_f1 : {decision_tree_f1:.2f}')\n",
    "# print('decision_tree_cm : ',decision_tree_cm)\n",
    "print('------------------------------------------------')\n",
    "\n",
    "\n",
    "random_forest_accuracy = accuracy_score(y_test, random_forest_y_pred)\n",
    "random_forest_precision = precision_score(y_test, random_forest_y_pred, average='macro')  # 'macro'는 다중 클래스 문제에 대한 평균을 의미합니다.\n",
    "random_forest_recall = recall_score(y_test, random_forest_y_pred, average='macro')\n",
    "random_forest_f1 = f1_score(y_test, random_forest_y_pred, average='macro')\n",
    "random_forest_cm = confusion_matrix(y_test, random_forest_y_pred)\n",
    "print(f'random_forest_accuracy : {random_forest_accuracy:.2f}')\n",
    "print(f'random_forest_precision : {random_forest_precision:.2f}')\n",
    "print(f'random_forest_recall : {random_forest_recall:.2f}')\n",
    "print(f'random_forest_f1 : {random_forest_f1:.2f}')\n",
    "print('------------------------------------------------')\n",
    "\n",
    "svm_model_accuracy = accuracy_score(y_test, svm_model_y_pred)\n",
    "svm_model_precision = precision_score(y_test, svm_model_y_pred, average='macro')  # 'macro'는 다중 클래스 문제에 대한 평균을 의미합니다.\n",
    "svm_model_recall = recall_score(y_test, svm_model_y_pred, average='macro')\n",
    "svm_model_f1 = f1_score(y_test, svm_model_y_pred, average='macro')\n",
    "svm_model_cm = confusion_matrix(y_test, svm_model_y_pred)\n",
    "print(f'svm_model_accuracy : {svm_model_accuracy:.2f}')\n",
    "print(f'svm_model_precision : {svm_model_precision:.2f}')\n",
    "print(f'svm_model_recall : {svm_model_recall:.2f}')\n",
    "print(f'svm_model_f1 : {svm_model_f1:.2f}')\n",
    "print('------------------------------------------------')\n",
    "sgd_model_accuracy = accuracy_score(y_test, sgd_model_y_pred)\n",
    "sgd_model_precision = precision_score(y_test, sgd_model_y_pred, average='macro')  # 'macro'는 다중 클래스 문제에 대한 평균을 의미합니다.\n",
    "sgd_model_recall = recall_score(y_test, sgd_model_y_pred, average='macro')\n",
    "sgd_model_f1 = f1_score(y_test, sgd_model_y_pred, average='macro')\n",
    "sgd_model_cm = confusion_matrix(y_test, sgd_model_y_pred)\n",
    "print(f'sgd_model_accuracy : {sgd_model_accuracy:.2f}')\n",
    "print(f'sgd_model_precision : {sgd_model_precision:.2f}')\n",
    "print(f'sgd_model_recall : {sgd_model_recall:.2f}')\n",
    "print(f'sgd_model_f1 : {sgd_model_f1:.2f}')\n",
    "print('------------------------------------------------')\n",
    "logistic_model_accuracy = accuracy_score(y_test, logistic_model_y_pred)\n",
    "logistic_model_precision = precision_score(y_test, logistic_model_y_pred, average='macro')  # 'macro'는 다중 클래스 문제에 대한 평균을 의미합니다.\n",
    "logistic_model_recall = recall_score(y_test, logistic_model_y_pred, average='macro')\n",
    "logistic_model_f1 = f1_score(y_test, logistic_model_y_pred, average='macro')\n",
    "logistic_model_cm = confusion_matrix(y_test, logistic_model_y_pred)\n",
    "print(f'logistic_model_accuracy : {logistic_model_accuracy:.2f}')\n",
    "print(f'logistic_model_precision : {logistic_model_precision:.2f}')\n",
    "print(f'logistic_model_recall : {logistic_model_recall:.2f}')\n",
    "print(f'logistic_model_f1 : {logistic_model_f1:.2f}')\n"
   ]
  },
  {
   "cell_type": "code",
   "execution_count": 107,
   "metadata": {},
   "outputs": [
    {
     "name": "stdout",
     "output_type": "stream",
     "text": [
      "              precision    recall  f1-score   support\n",
      "\n",
      "           0       1.00      0.89      0.94        38\n",
      "           1       0.75      0.83      0.79        36\n",
      "           2       0.75      0.84      0.79        32\n",
      "           3       0.92      0.86      0.89        56\n",
      "           4       0.85      0.90      0.88        31\n",
      "           5       0.92      0.97      0.95        36\n",
      "           6       0.97      0.94      0.96        34\n",
      "           7       0.94      0.88      0.91        34\n",
      "           8       0.88      0.78      0.82        27\n",
      "           9       0.79      0.83      0.81        36\n",
      "\n",
      "    accuracy                           0.88       360\n",
      "   macro avg       0.88      0.87      0.87       360\n",
      "weighted avg       0.88      0.88      0.88       360\n",
      "\n"
     ]
    }
   ],
   "source": [
    "print(classification_report(y_test, decision_tree_y_pred)) # 결과 지표를 확인"
   ]
  },
  {
   "cell_type": "code",
   "execution_count": 108,
   "metadata": {},
   "outputs": [
    {
     "name": "stdout",
     "output_type": "stream",
     "text": [
      "              precision    recall  f1-score   support\n",
      "\n",
      "           0       1.00      1.00      1.00        38\n",
      "           1       0.97      1.00      0.99        36\n",
      "           2       0.97      1.00      0.98        32\n",
      "           3       1.00      1.00      1.00        56\n",
      "           4       1.00      0.97      0.98        31\n",
      "           5       1.00      0.97      0.99        36\n",
      "           6       1.00      1.00      1.00        34\n",
      "           7       0.97      1.00      0.99        34\n",
      "           8       0.96      0.89      0.92        27\n",
      "           9       0.97      1.00      0.99        36\n",
      "\n",
      "    accuracy                           0.99       360\n",
      "   macro avg       0.98      0.98      0.98       360\n",
      "weighted avg       0.99      0.99      0.99       360\n",
      "\n"
     ]
    }
   ],
   "source": [
    "print(classification_report(y_test, random_forest_y_pred)) # 결과 지표를 확인"
   ]
  },
  {
   "cell_type": "code",
   "execution_count": 109,
   "metadata": {},
   "outputs": [
    {
     "name": "stdout",
     "output_type": "stream",
     "text": [
      "              precision    recall  f1-score   support\n",
      "\n",
      "           0       1.00      1.00      1.00        38\n",
      "           1       1.00      1.00      1.00        36\n",
      "           2       1.00      1.00      1.00        32\n",
      "           3       1.00      1.00      1.00        56\n",
      "           4       1.00      0.97      0.98        31\n",
      "           5       1.00      0.97      0.99        36\n",
      "           6       1.00      1.00      1.00        34\n",
      "           7       1.00      1.00      1.00        34\n",
      "           8       1.00      1.00      1.00        27\n",
      "           9       0.95      1.00      0.97        36\n",
      "\n",
      "    accuracy                           0.99       360\n",
      "   macro avg       0.99      0.99      0.99       360\n",
      "weighted avg       0.99      0.99      0.99       360\n",
      "\n"
     ]
    }
   ],
   "source": [
    "print(classification_report(y_test, svm_model_y_pred)) # 결과 지표를 확인"
   ]
  },
  {
   "cell_type": "code",
   "execution_count": 110,
   "metadata": {},
   "outputs": [
    {
     "name": "stdout",
     "output_type": "stream",
     "text": [
      "              precision    recall  f1-score   support\n",
      "\n",
      "           0       1.00      0.97      0.99        38\n",
      "           1       1.00      0.78      0.88        36\n",
      "           2       1.00      0.97      0.98        32\n",
      "           3       0.98      0.95      0.96        56\n",
      "           4       1.00      0.97      0.98        31\n",
      "           5       0.97      0.94      0.96        36\n",
      "           6       1.00      1.00      1.00        34\n",
      "           7       1.00      0.97      0.99        34\n",
      "           8       0.75      1.00      0.86        27\n",
      "           9       0.86      1.00      0.92        36\n",
      "\n",
      "    accuracy                           0.95       360\n",
      "   macro avg       0.96      0.95      0.95       360\n",
      "weighted avg       0.96      0.95      0.95       360\n",
      "\n"
     ]
    }
   ],
   "source": [
    "print(classification_report(y_test, sgd_model_y_pred)) # 결과 지표를 확인"
   ]
  },
  {
   "cell_type": "code",
   "execution_count": 124,
   "metadata": {},
   "outputs": [
    {
     "name": "stdout",
     "output_type": "stream",
     "text": [
      "              precision    recall  f1-score   support\n",
      "\n",
      "           0       0.94      1.00      0.97        16\n",
      "           1       0.89      0.80      0.84        10\n",
      "           2       0.90      0.90      0.90        10\n",
      "\n",
      "    accuracy                           0.92        36\n",
      "   macro avg       0.91      0.90      0.90        36\n",
      "weighted avg       0.92      0.92      0.91        36\n",
      "\n"
     ]
    }
   ],
   "source": [
    "print(classification_report(y_test, logistic_model_y_pred)) # 결과 지표를 확인"
   ]
  },
  {
   "cell_type": "markdown",
   "metadata": {},
   "source": [
    "#### (1) 필요한 모듈 import 하기"
   ]
  },
  {
   "cell_type": "code",
   "execution_count": 112,
   "metadata": {},
   "outputs": [],
   "source": [
    "from sklearn.datasets import load_wine\n",
    "from sklearn.model_selection import train_test_split\n",
    "from sklearn.metrics import classification_report\n",
    "from sklearn.metrics import accuracy_score, precision_score,recall_score,f1_score,confusion_matrix\n",
    "# 정확도, 정밀도, 재현율,F1점수, 혼돈행렬\n",
    "\n",
    "from sklearn.preprocessing import StandardScaler # 스케일링\n",
    "\n",
    "from sklearn.tree import DecisionTreeClassifier # 의사결정트리 분류기를 사용하기 위해 import\n",
    "from sklearn.ensemble import RandomForestClassifier #랜덤포레스트라 분류기를 사용하기 위해 import\n",
    "from sklearn import svm # Support Vector Machine을 사용하기 위해 import\n",
    "from sklearn.svm import SVC\n",
    "\n",
    "from sklearn.linear_model import SGDClassifier # 선형분류기인 SGDClassifier를 사용하기 위한 import\n",
    "from sklearn.linear_model import LogisticRegression # 선형분류기인 LogisticRegression를 사용하기 위한 import"
   ]
  },
  {
   "cell_type": "markdown",
   "metadata": {},
   "source": [
    "#### (2) 데이터 준비\n",
    "+ load_wine()"
   ]
  },
  {
   "cell_type": "code",
   "execution_count": 113,
   "metadata": {},
   "outputs": [
    {
     "data": {
      "text/plain": [
       "dict_keys(['data', 'target', 'frame', 'target_names', 'DESCR', 'feature_names'])"
      ]
     },
     "execution_count": 113,
     "metadata": {},
     "output_type": "execute_result"
    }
   ],
   "source": [
    "wine = load_wine() # 데이터셋 가져오기\n",
    "wine.keys()"
   ]
  },
  {
   "cell_type": "markdown",
   "metadata": {},
   "source": [
    "#### (3) 데이터 이해하기\n",
    "+ Feature Data 지정하기\n",
    "+ Label Data 지정하기\n",
    "+ Target Names 출력해 보기\n",
    "+ 데이터 Describe 해 보기"
   ]
  },
  {
   "cell_type": "code",
   "execution_count": 114,
   "metadata": {},
   "outputs": [],
   "source": [
    "wine_data = wine.data # Feature Data 지정\n",
    "wine_label = wine.target # LabelData 지정"
   ]
  },
  {
   "cell_type": "code",
   "execution_count": 115,
   "metadata": {},
   "outputs": [
    {
     "data": {
      "text/plain": [
       "array(['class_0', 'class_1', 'class_2'], dtype='<U7')"
      ]
     },
     "execution_count": 115,
     "metadata": {},
     "output_type": "execute_result"
    }
   ],
   "source": [
    "# target names 출력해보기\n",
    "wine.target_names"
   ]
  },
  {
   "cell_type": "code",
   "execution_count": 116,
   "metadata": {},
   "outputs": [
    {
     "name": "stdout",
     "output_type": "stream",
     "text": [
      ".. _wine_dataset:\n",
      "\n",
      "Wine recognition dataset\n",
      "------------------------\n",
      "\n",
      "**Data Set Characteristics:**\n",
      "\n",
      "    :Number of Instances: 178\n",
      "    :Number of Attributes: 13 numeric, predictive attributes and the class\n",
      "    :Attribute Information:\n",
      " \t\t- Alcohol\n",
      " \t\t- Malic acid\n",
      " \t\t- Ash\n",
      "\t\t- Alcalinity of ash  \n",
      " \t\t- Magnesium\n",
      "\t\t- Total phenols\n",
      " \t\t- Flavanoids\n",
      " \t\t- Nonflavanoid phenols\n",
      " \t\t- Proanthocyanins\n",
      "\t\t- Color intensity\n",
      " \t\t- Hue\n",
      " \t\t- OD280/OD315 of diluted wines\n",
      " \t\t- Proline\n",
      "\n",
      "    - class:\n",
      "            - class_0\n",
      "            - class_1\n",
      "            - class_2\n",
      "\t\t\n",
      "    :Summary Statistics:\n",
      "    \n",
      "    ============================= ==== ===== ======= =====\n",
      "                                   Min   Max   Mean     SD\n",
      "    ============================= ==== ===== ======= =====\n",
      "    Alcohol:                      11.0  14.8    13.0   0.8\n",
      "    Malic Acid:                   0.74  5.80    2.34  1.12\n",
      "    Ash:                          1.36  3.23    2.36  0.27\n",
      "    Alcalinity of Ash:            10.6  30.0    19.5   3.3\n",
      "    Magnesium:                    70.0 162.0    99.7  14.3\n",
      "    Total Phenols:                0.98  3.88    2.29  0.63\n",
      "    Flavanoids:                   0.34  5.08    2.03  1.00\n",
      "    Nonflavanoid Phenols:         0.13  0.66    0.36  0.12\n",
      "    Proanthocyanins:              0.41  3.58    1.59  0.57\n",
      "    Colour Intensity:              1.3  13.0     5.1   2.3\n",
      "    Hue:                          0.48  1.71    0.96  0.23\n",
      "    OD280/OD315 of diluted wines: 1.27  4.00    2.61  0.71\n",
      "    Proline:                       278  1680     746   315\n",
      "    ============================= ==== ===== ======= =====\n",
      "\n",
      "    :Missing Attribute Values: None\n",
      "    :Class Distribution: class_0 (59), class_1 (71), class_2 (48)\n",
      "    :Creator: R.A. Fisher\n",
      "    :Donor: Michael Marshall (MARSHALL%PLU@io.arc.nasa.gov)\n",
      "    :Date: July, 1988\n",
      "\n",
      "This is a copy of UCI ML Wine recognition datasets.\n",
      "https://archive.ics.uci.edu/ml/machine-learning-databases/wine/wine.data\n",
      "\n",
      "The data is the results of a chemical analysis of wines grown in the same\n",
      "region in Italy by three different cultivators. There are thirteen different\n",
      "measurements taken for different constituents found in the three types of\n",
      "wine.\n",
      "\n",
      "Original Owners: \n",
      "\n",
      "Forina, M. et al, PARVUS - \n",
      "An Extendible Package for Data Exploration, Classification and Correlation. \n",
      "Institute of Pharmaceutical and Food Analysis and Technologies,\n",
      "Via Brigata Salerno, 16147 Genoa, Italy.\n",
      "\n",
      "Citation:\n",
      "\n",
      "Lichman, M. (2013). UCI Machine Learning Repository\n",
      "[https://archive.ics.uci.edu/ml]. Irvine, CA: University of California,\n",
      "School of Information and Computer Science. \n",
      "\n",
      ".. topic:: References\n",
      "\n",
      "  (1) S. Aeberhard, D. Coomans and O. de Vel, \n",
      "  Comparison of Classifiers in High Dimensional Settings, \n",
      "  Tech. Rep. no. 92-02, (1992), Dept. of Computer Science and Dept. of  \n",
      "  Mathematics and Statistics, James Cook University of North Queensland. \n",
      "  (Also submitted to Technometrics). \n",
      "\n",
      "  The data was used with many others for comparing various \n",
      "  classifiers. The classes are separable, though only RDA \n",
      "  has achieved 100% correct classification. \n",
      "  (RDA : 100%, QDA 99.4%, LDA 98.9%, 1NN 96.1% (z-transformed data)) \n",
      "  (All results using the leave-one-out technique) \n",
      "\n",
      "  (2) S. Aeberhard, D. Coomans and O. de Vel, \n",
      "  \"THE CLASSIFICATION PERFORMANCE OF RDA\" \n",
      "  Tech. Rep. no. 92-01, (1992), Dept. of Computer Science and Dept. of \n",
      "  Mathematics and Statistics, James Cook University of North Queensland. \n",
      "  (Also submitted to Journal of Chemometrics).\n",
      "\n"
     ]
    }
   ],
   "source": [
    "# 데이터 describe 해보기\n",
    "print(wine.DESCR)"
   ]
  },
  {
   "cell_type": "markdown",
   "metadata": {},
   "source": [
    "#### (4) train, test 데이터 분리\n"
   ]
  },
  {
   "cell_type": "code",
   "execution_count": 117,
   "metadata": {},
   "outputs": [
    {
     "name": "stdout",
     "output_type": "stream",
     "text": [
      "(142, 13) (142,)\n",
      "(36, 13) (36,)\n"
     ]
    }
   ],
   "source": [
    "X_train, X_test, y_train, y_test = train_test_split(wine_data, wine_label, test_size=0.2, random_state=32)\n",
    "print(X_train.shape,y_train.shape)\n",
    "print(X_test.shape,y_test.shape)"
   ]
  },
  {
   "cell_type": "markdown",
   "metadata": {},
   "source": [
    "#### (5) 다양한 모델로 학습시켜보기\n",
    "+ Decision Tree 사용해 보기\n",
    "+ Random Forest 사용해 보기\n",
    "+ SVM 사용해 보기\n",
    "+ SGD Classifier 사용해 보기\n",
    "+ Logistic Regression 사용해 보기"
   ]
  },
  {
   "cell_type": "code",
   "execution_count": 118,
   "metadata": {},
   "outputs": [
    {
     "name": "stdout",
     "output_type": "stream",
     "text": [
      "decision_tree_accuracy :  0.9166666666666666\n",
      "random_forest_accuracy : 0.9722222222222222\n",
      "svm_model_accuracy : 0.6111111111111112\n",
      "sgd_model_accuracy : 0.3888888888888889\n",
      "logistic_model_accuracy : 0.9166666666666666\n"
     ]
    }
   ],
   "source": [
    "# Decision Tree 사용해 보기\n",
    "decision_tree = DecisionTreeClassifier(random_state=32) # decisionTree 분류기 객체 생성\n",
    "decision_tree.fit(X_train, y_train)\n",
    "decision_tree_y_pred = decision_tree.predict(X_test)\n",
    "print('decision_tree_accuracy : ',accuracy_score(y_test, decision_tree_y_pred))\n",
    "\n",
    "\n",
    "# Random Forest 사용해 보기\n",
    "random_forest = RandomForestClassifier(random_state=32) # RandomForest 분류기 객체 생성\n",
    "random_forest.fit(X_train, y_train)\n",
    "random_forest_y_pred = random_forest.predict(X_test)\n",
    "print('random_forest_accuracy :', accuracy_score(y_test, random_forest_y_pred))\n",
    "\n",
    "# SVM 사용해 보기\n",
    "svm_model = svm.SVC(random_state=32) # SVM 모델 객체 생성\n",
    "svm_model.fit(X_train, y_train)\n",
    "svm_model_y_pred = svm_model.predict(X_test)\n",
    "print('svm_model_accuracy :', accuracy_score(y_test, svm_model_y_pred))\n",
    "\n",
    "# SGD Classifier 사용해 보기\n",
    "sgd_model = SGDClassifier(random_state=32) # SGD Classifier 모델 객체 생성\n",
    "sgd_model.fit(X_train, y_train)\n",
    "sgd_model_y_pred = sgd_model.predict(X_test)\n",
    "print('sgd_model_accuracy :', accuracy_score(y_test, sgd_model_y_pred))\n",
    "\n",
    "# Logistic Regression 사용해 보기\n",
    "logistic_model = LogisticRegression(max_iter=3000,random_state=32) # Logistic Regression  모델 객체 생성\n",
    "logistic_model.fit(X_train, y_train)\n",
    "logistic_model_y_pred = logistic_model.predict(X_test)\n",
    "print('logistic_model_accuracy :', accuracy_score(y_test, logistic_model_y_pred))\n"
   ]
  },
  {
   "cell_type": "markdown",
   "metadata": {},
   "source": [
    "#### (6) 모델을 평가해 보기\n"
   ]
  },
  {
   "cell_type": "code",
   "execution_count": 136,
   "metadata": {},
   "outputs": [],
   "source": [
    "def score_print(model_type,y_test,y_pred):\n",
    "    accuracy = accuracy_score(y_test, y_pred)\n",
    "    precision = precision_score(y_test, y_pred, average='macro',zero_division=1)  # 'macro'는 다중 클래스 문제에 대한 평균을 의미합니다.\n",
    "    recall = recall_score(y_test, y_pred, average='macro')\n",
    "    f1 = f1_score(y_test, y_pred, average='macro')\n",
    "    print(f'{model_type}_accuracy : {accuracy:.5f}')\n",
    "    print(f'{model_type}_precision : {precision:.5f}')\n",
    "    print(f'{model_type}_recall : {recall:.5f}')\n",
    "    print(f'{model_type}_f1 : {f1:.5f}')\n",
    "    print('-----------------------------------')"
   ]
  },
  {
   "cell_type": "code",
   "execution_count": 137,
   "metadata": {},
   "outputs": [
    {
     "name": "stdout",
     "output_type": "stream",
     "text": [
      "decision_tree_accuracy : 0.91667\n",
      "decision_tree_precision : 0.91002\n",
      "decision_tree_recall : 0.90000\n",
      "decision_tree_f1 : 0.90393\n",
      "-----------------------------------\n",
      "random_forest_accuracy : 0.97222\n",
      "random_forest_precision : 0.96970\n",
      "random_forest_recall : 0.96667\n",
      "random_forest_f1 : 0.96658\n",
      "-----------------------------------\n",
      "svm_model_accuracy : 0.61111\n",
      "svm_model_precision : 0.77922\n",
      "svm_model_recall : 0.57083\n",
      "svm_model_f1 : 0.47639\n",
      "-----------------------------------\n",
      "sgd_model_accuracy : 0.38889\n",
      "sgd_model_precision : 0.77083\n",
      "sgd_model_recall : 0.41667\n",
      "sgd_model_f1 : 0.29206\n",
      "-----------------------------------\n",
      "logistic_model_accuracy : 0.91667\n",
      "logistic_model_precision : 0.91002\n",
      "logistic_model_recall : 0.90000\n",
      "logistic_model_f1 : 0.90393\n",
      "-----------------------------------\n"
     ]
    }
   ],
   "source": [
    "score_print('decision_tree',y_test,decision_tree_y_pred)\n",
    "score_print('random_forest',y_test,random_forest_y_pred)\n",
    "score_print('svm_model',y_test,svm_model_y_pred)\n",
    "score_print('sgd_model',y_test,sgd_model_y_pred)\n",
    "score_print('logistic_model',y_test,logistic_model_y_pred)"
   ]
  },
  {
   "cell_type": "markdown",
   "metadata": {},
   "source": [
    "+ svm_model, sgd_model의 예측성능 높이는 방법\n",
    "    1. 데이터 스케일링 : SVM과 SGD는 데이터의 스케일에 민감 -> StandardScaler나 MinMaxScaler를 이용하여 스케일 진행 추천\n",
    "    2. 하이퍼파라미터 튜닝 \n",
    "        + SVM\n",
    "            + C : 오분류에 대한 패널티 결정\n",
    "                + 작은값 : 부드러운 결정 경계 / 큰 값 : 복잡한 결정 경계\n",
    "            + kernel : 데이터를 고차원 공간으로 변환하는 방법 결정\n",
    "                + linear, poly, rbf, sigmoid 등 옵션이 있음\n",
    "        + SGB \n",
    "            + alpha : 정규화 강도\n",
    "            + penalty : 사용할 정규화 방법\n",
    "                + l1,l2,elasticnet\n",
    "    3. 교차 검증 : GridSearchCV, RandomizedSearchCV\n",
    "    4. 특성 선택, 추출 : 중요하지 않은 특성 제거, PCA(주성분 분석)으로 특성 추출\n",
    "+ 데이터 스케일링과 하이퍼파라미터 변경 적용해서 예측 성능을 높임\n"
   ]
  },
  {
   "cell_type": "code",
   "execution_count": 138,
   "metadata": {},
   "outputs": [
    {
     "name": "stdout",
     "output_type": "stream",
     "text": [
      "SVM Accuracy: 0.9444\n",
      "SGD Accuracy: 0.9444\n"
     ]
    }
   ],
   "source": [
    "# 데이터 스케일링\n",
    "scaler = StandardScaler()\n",
    "X_train_scaled = scaler.fit_transform(X_train)\n",
    "X_test_scaled = scaler.transform(X_test)\n",
    "\n",
    "# SVM 모델 학습 및 평가\n",
    "svm_model = SVC(kernel='rbf', C=10, gamma=0.1)  # 이 값들은 일반적으로 좋은 성능을 보이는 값들입니다. 하지만 최적의 값은 데이터에 따라 다를 수 있습니다.\n",
    "svm_model.fit(X_train_scaled, y_train)\n",
    "svm_pred = svm_model.predict(X_test_scaled)\n",
    "svm_accuracy = accuracy_score(y_test, svm_pred)\n",
    "print(f\"SVM Accuracy: {svm_accuracy:.4f}\")\n",
    "\n",
    "# SGD 모델 학습 및 평가\n",
    "sgd_model = SGDClassifier(loss='hinge', penalty='l2', alpha=0.001, max_iter=1000, random_state=42)\n",
    "sgd_model.fit(X_train_scaled, y_train)\n",
    "sgd_pred = sgd_model.predict(X_test_scaled)\n",
    "sgd_accuracy = accuracy_score(y_test, sgd_pred)\n",
    "print(f\"SGD Accuracy: {sgd_accuracy:.4f}\")"
   ]
  },
  {
   "cell_type": "code",
   "execution_count": 139,
   "metadata": {},
   "outputs": [
    {
     "name": "stdout",
     "output_type": "stream",
     "text": [
      "svm_model_accuracy : 0.94444\n",
      "svm_model_precision : 0.93333\n",
      "svm_model_recall : 0.93333\n",
      "svm_model_f1 : 0.93333\n",
      "-----------------------------------\n",
      "sgd_model_accuracy : 0.94444\n",
      "sgd_model_precision : 0.93333\n",
      "sgd_model_recall : 0.93333\n",
      "sgd_model_f1 : 0.93333\n",
      "-----------------------------------\n"
     ]
    }
   ],
   "source": [
    "score_print('svm_model',y_test,svm_pred)\n",
    "score_print('sgd_model',y_test,sgd_pred)"
   ]
  },
  {
   "cell_type": "markdown",
   "metadata": {},
   "source": [
    "### 2-3. 프로젝트 (3) load_breast_cancer : 유방암 여부를 진단해 봅시다\n",
    "---\n"
   ]
  },
  {
   "cell_type": "code",
   "execution_count": 130,
   "metadata": {},
   "outputs": [],
   "source": []
  },
  {
   "cell_type": "markdown",
   "metadata": {},
   "source": [
    "#### (1) 필요한 모듈 import 하기"
   ]
  },
  {
   "cell_type": "code",
   "execution_count": null,
   "metadata": {},
   "outputs": [],
   "source": [
    "from sklearn.datasets import load_breast_cancer\n",
    "from sklearn.model_selection import train_test_split\n",
    "from sklearn.metrics import classification_report\n",
    "from sklearn.metrics import accuracy_score, precision_score,recall_score,f1_score,confusion_matrix\n",
    "# 정확도, 정밀도, 재현율,F1점수, 혼돈행렬\n",
    "\n",
    "from sklearn.preprocessing import StandardScaler # 스케일링\n",
    "\n",
    "from sklearn.tree import DecisionTreeClassifier # 의사결정트리 분류기를 사용하기 위해 import\n",
    "from sklearn.ensemble import RandomForestClassifier #랜덤포레스트라 분류기를 사용하기 위해 import\n",
    "from sklearn import svm # Support Vector Machine을 사용하기 위해 import\n",
    "from sklearn.svm import SVC\n",
    "\n",
    "from sklearn.linear_model import SGDClassifier # 선형분류기인 SGDClassifier를 사용하기 위한 import\n",
    "from sklearn.linear_model import LogisticRegression # 선형분류기인 LogisticRegression를 사용하기 위한 import"
   ]
  },
  {
   "cell_type": "markdown",
   "metadata": {},
   "source": [
    "#### (2) 데이터 준비\n",
    "+ load_wine()"
   ]
  },
  {
   "cell_type": "code",
   "execution_count": 140,
   "metadata": {},
   "outputs": [
    {
     "data": {
      "text/plain": [
       "dict_keys(['data', 'target', 'frame', 'target_names', 'DESCR', 'feature_names', 'filename', 'data_module'])"
      ]
     },
     "execution_count": 140,
     "metadata": {},
     "output_type": "execute_result"
    }
   ],
   "source": [
    "breast = load_breast_cancer() # 데이터셋 가져오기\n",
    "breast.keys()"
   ]
  },
  {
   "cell_type": "markdown",
   "metadata": {},
   "source": [
    "#### (3) 데이터 이해하기\n",
    "+ Feature Data 지정하기\n",
    "+ Label Data 지정하기\n",
    "+ Target Names 출력해 보기\n",
    "+ 데이터 Describe 해 보기"
   ]
  },
  {
   "cell_type": "code",
   "execution_count": 141,
   "metadata": {},
   "outputs": [],
   "source": [
    "breast_data = breast.data # Feature Data 지정\n",
    "breast_label = breast.target # LabelData 지정"
   ]
  },
  {
   "cell_type": "code",
   "execution_count": 142,
   "metadata": {},
   "outputs": [
    {
     "data": {
      "text/plain": [
       "array(['malignant', 'benign'], dtype='<U9')"
      ]
     },
     "execution_count": 142,
     "metadata": {},
     "output_type": "execute_result"
    }
   ],
   "source": [
    "# target names 출력해보기\n",
    "breast.target_names"
   ]
  },
  {
   "cell_type": "code",
   "execution_count": 143,
   "metadata": {},
   "outputs": [
    {
     "name": "stdout",
     "output_type": "stream",
     "text": [
      ".. _breast_cancer_dataset:\n",
      "\n",
      "Breast cancer wisconsin (diagnostic) dataset\n",
      "--------------------------------------------\n",
      "\n",
      "**Data Set Characteristics:**\n",
      "\n",
      "    :Number of Instances: 569\n",
      "\n",
      "    :Number of Attributes: 30 numeric, predictive attributes and the class\n",
      "\n",
      "    :Attribute Information:\n",
      "        - radius (mean of distances from center to points on the perimeter)\n",
      "        - texture (standard deviation of gray-scale values)\n",
      "        - perimeter\n",
      "        - area\n",
      "        - smoothness (local variation in radius lengths)\n",
      "        - compactness (perimeter^2 / area - 1.0)\n",
      "        - concavity (severity of concave portions of the contour)\n",
      "        - concave points (number of concave portions of the contour)\n",
      "        - symmetry\n",
      "        - fractal dimension (\"coastline approximation\" - 1)\n",
      "\n",
      "        The mean, standard error, and \"worst\" or largest (mean of the three\n",
      "        worst/largest values) of these features were computed for each image,\n",
      "        resulting in 30 features.  For instance, field 0 is Mean Radius, field\n",
      "        10 is Radius SE, field 20 is Worst Radius.\n",
      "\n",
      "        - class:\n",
      "                - WDBC-Malignant\n",
      "                - WDBC-Benign\n",
      "\n",
      "    :Summary Statistics:\n",
      "\n",
      "    ===================================== ====== ======\n",
      "                                           Min    Max\n",
      "    ===================================== ====== ======\n",
      "    radius (mean):                        6.981  28.11\n",
      "    texture (mean):                       9.71   39.28\n",
      "    perimeter (mean):                     43.79  188.5\n",
      "    area (mean):                          143.5  2501.0\n",
      "    smoothness (mean):                    0.053  0.163\n",
      "    compactness (mean):                   0.019  0.345\n",
      "    concavity (mean):                     0.0    0.427\n",
      "    concave points (mean):                0.0    0.201\n",
      "    symmetry (mean):                      0.106  0.304\n",
      "    fractal dimension (mean):             0.05   0.097\n",
      "    radius (standard error):              0.112  2.873\n",
      "    texture (standard error):             0.36   4.885\n",
      "    perimeter (standard error):           0.757  21.98\n",
      "    area (standard error):                6.802  542.2\n",
      "    smoothness (standard error):          0.002  0.031\n",
      "    compactness (standard error):         0.002  0.135\n",
      "    concavity (standard error):           0.0    0.396\n",
      "    concave points (standard error):      0.0    0.053\n",
      "    symmetry (standard error):            0.008  0.079\n",
      "    fractal dimension (standard error):   0.001  0.03\n",
      "    radius (worst):                       7.93   36.04\n",
      "    texture (worst):                      12.02  49.54\n",
      "    perimeter (worst):                    50.41  251.2\n",
      "    area (worst):                         185.2  4254.0\n",
      "    smoothness (worst):                   0.071  0.223\n",
      "    compactness (worst):                  0.027  1.058\n",
      "    concavity (worst):                    0.0    1.252\n",
      "    concave points (worst):               0.0    0.291\n",
      "    symmetry (worst):                     0.156  0.664\n",
      "    fractal dimension (worst):            0.055  0.208\n",
      "    ===================================== ====== ======\n",
      "\n",
      "    :Missing Attribute Values: None\n",
      "\n",
      "    :Class Distribution: 212 - Malignant, 357 - Benign\n",
      "\n",
      "    :Creator:  Dr. William H. Wolberg, W. Nick Street, Olvi L. Mangasarian\n",
      "\n",
      "    :Donor: Nick Street\n",
      "\n",
      "    :Date: November, 1995\n",
      "\n",
      "This is a copy of UCI ML Breast Cancer Wisconsin (Diagnostic) datasets.\n",
      "https://goo.gl/U2Uwz2\n",
      "\n",
      "Features are computed from a digitized image of a fine needle\n",
      "aspirate (FNA) of a breast mass.  They describe\n",
      "characteristics of the cell nuclei present in the image.\n",
      "\n",
      "Separating plane described above was obtained using\n",
      "Multisurface Method-Tree (MSM-T) [K. P. Bennett, \"Decision Tree\n",
      "Construction Via Linear Programming.\" Proceedings of the 4th\n",
      "Midwest Artificial Intelligence and Cognitive Science Society,\n",
      "pp. 97-101, 1992], a classification method which uses linear\n",
      "programming to construct a decision tree.  Relevant features\n",
      "were selected using an exhaustive search in the space of 1-4\n",
      "features and 1-3 separating planes.\n",
      "\n",
      "The actual linear program used to obtain the separating plane\n",
      "in the 3-dimensional space is that described in:\n",
      "[K. P. Bennett and O. L. Mangasarian: \"Robust Linear\n",
      "Programming Discrimination of Two Linearly Inseparable Sets\",\n",
      "Optimization Methods and Software 1, 1992, 23-34].\n",
      "\n",
      "This database is also available through the UW CS ftp server:\n",
      "\n",
      "ftp ftp.cs.wisc.edu\n",
      "cd math-prog/cpo-dataset/machine-learn/WDBC/\n",
      "\n",
      ".. topic:: References\n",
      "\n",
      "   - W.N. Street, W.H. Wolberg and O.L. Mangasarian. Nuclear feature extraction \n",
      "     for breast tumor diagnosis. IS&T/SPIE 1993 International Symposium on \n",
      "     Electronic Imaging: Science and Technology, volume 1905, pages 861-870,\n",
      "     San Jose, CA, 1993.\n",
      "   - O.L. Mangasarian, W.N. Street and W.H. Wolberg. Breast cancer diagnosis and \n",
      "     prognosis via linear programming. Operations Research, 43(4), pages 570-577, \n",
      "     July-August 1995.\n",
      "   - W.H. Wolberg, W.N. Street, and O.L. Mangasarian. Machine learning techniques\n",
      "     to diagnose breast cancer from fine-needle aspirates. Cancer Letters 77 (1994) \n",
      "     163-171.\n"
     ]
    }
   ],
   "source": [
    "# 데이터 describe 해보기\n",
    "print(breast.DESCR)"
   ]
  },
  {
   "cell_type": "markdown",
   "metadata": {},
   "source": [
    "#### (4) train, test 데이터 분리\n"
   ]
  },
  {
   "cell_type": "code",
   "execution_count": 144,
   "metadata": {},
   "outputs": [
    {
     "name": "stdout",
     "output_type": "stream",
     "text": [
      "(455, 30) (455,)\n",
      "(114, 30) (114,)\n"
     ]
    }
   ],
   "source": [
    "X_train, X_test, y_train, y_test = train_test_split(breast_data, breast_label, test_size=0.2, random_state=32)\n",
    "print(X_train.shape,y_train.shape)\n",
    "print(X_test.shape,y_test.shape)"
   ]
  },
  {
   "cell_type": "markdown",
   "metadata": {},
   "source": [
    "#### (5) 다양한 모델로 학습시켜보기\n",
    "+ Decision Tree 사용해 보기\n",
    "+ Random Forest 사용해 보기\n",
    "+ SVM 사용해 보기\n",
    "+ SGD Classifier 사용해 보기\n",
    "+ Logistic Regression 사용해 보기"
   ]
  },
  {
   "cell_type": "code",
   "execution_count": 145,
   "metadata": {},
   "outputs": [
    {
     "name": "stdout",
     "output_type": "stream",
     "text": [
      "decision_tree_accuracy :  0.8771929824561403\n",
      "random_forest_accuracy : 0.9385964912280702\n",
      "svm_model_accuracy : 0.868421052631579\n",
      "sgd_model_accuracy : 0.9035087719298246\n",
      "logistic_model_accuracy : 0.9210526315789473\n"
     ]
    }
   ],
   "source": [
    "# Decision Tree 사용해 보기\n",
    "decision_tree = DecisionTreeClassifier(random_state=32) # decisionTree 분류기 객체 생성\n",
    "decision_tree.fit(X_train, y_train)\n",
    "decision_tree_y_pred = decision_tree.predict(X_test)\n",
    "print('decision_tree_accuracy : ',accuracy_score(y_test, decision_tree_y_pred))\n",
    "\n",
    "\n",
    "# Random Forest 사용해 보기\n",
    "random_forest = RandomForestClassifier(random_state=32) # RandomForest 분류기 객체 생성\n",
    "random_forest.fit(X_train, y_train)\n",
    "random_forest_y_pred = random_forest.predict(X_test)\n",
    "print('random_forest_accuracy :', accuracy_score(y_test, random_forest_y_pred))\n",
    "\n",
    "# SVM 사용해 보기\n",
    "svm_model = svm.SVC(random_state=32) # SVM 모델 객체 생성\n",
    "svm_model.fit(X_train, y_train)\n",
    "svm_model_y_pred = svm_model.predict(X_test)\n",
    "print('svm_model_accuracy :', accuracy_score(y_test, svm_model_y_pred))\n",
    "\n",
    "# SGD Classifier 사용해 보기\n",
    "sgd_model = SGDClassifier(random_state=32) # SGD Classifier 모델 객체 생성\n",
    "sgd_model.fit(X_train, y_train)\n",
    "sgd_model_y_pred = sgd_model.predict(X_test)\n",
    "print('sgd_model_accuracy :', accuracy_score(y_test, sgd_model_y_pred))\n",
    "\n",
    "# Logistic Regression 사용해 보기\n",
    "logistic_model = LogisticRegression(max_iter=3000,random_state=32) # Logistic Regression  모델 객체 생성\n",
    "logistic_model.fit(X_train, y_train)\n",
    "logistic_model_y_pred = logistic_model.predict(X_test)\n",
    "print('logistic_model_accuracy :', accuracy_score(y_test, logistic_model_y_pred))\n"
   ]
  },
  {
   "cell_type": "markdown",
   "metadata": {},
   "source": [
    "#### (6) 모델을 평가해 보기\n"
   ]
  },
  {
   "cell_type": "code",
   "execution_count": 146,
   "metadata": {},
   "outputs": [],
   "source": [
    "def score_print(model_type,y_test,y_pred):\n",
    "    accuracy = accuracy_score(y_test, y_pred)\n",
    "    precision = precision_score(y_test, y_pred, average='macro',zero_division=1)  # 'macro'는 다중 클래스 문제에 대한 평균을 의미합니다.\n",
    "    recall = recall_score(y_test, y_pred, average='macro')\n",
    "    f1 = f1_score(y_test, y_pred, average='macro')\n",
    "    print(f'{model_type}_accuracy : {accuracy:.5f}')\n",
    "    print(f'{model_type}_precision : {precision:.5f}')\n",
    "    print(f'{model_type}_recall : {recall:.5f}')\n",
    "    print(f'{model_type}_f1 : {f1:.5f}')\n",
    "    print('-----------------------------------')"
   ]
  },
  {
   "cell_type": "code",
   "execution_count": 155,
   "metadata": {},
   "outputs": [],
   "source": [
    "def model_fit_pred(model_name_str,model,X_train, y_train,X_test,y_test) :\n",
    "    model.fit(X_train, y_train)\n",
    "    y_pred = model.predict(X_test)\n",
    "    print(model_name_str, 'accuracy : ',accuracy_score(y_test, y_pred))\n",
    "    return y_pred\n"
   ]
  },
  {
   "cell_type": "code",
   "execution_count": 160,
   "metadata": {},
   "outputs": [
    {
     "name": "stdout",
     "output_type": "stream",
     "text": [
      "DecisionTreeClassifier accuracy :  0.9210526315789473\n",
      "RandomForestClassifier accuracy :  0.9385964912280702\n",
      "svm_model accuracy :  0.868421052631579\n",
      "sgd_model accuracy :  0.9035087719298246\n",
      "logistic_model accuracy :  0.9210526315789473\n"
     ]
    }
   ],
   "source": [
    "# Decision Tree 사용해 보기\n",
    "decision_tree = DecisionTreeClassifier(random_state=32) # decisionTree 분류기 객체 생성\n",
    "decision_tree_y_pred=model_fit_pred('DecisionTreeClassifier',logistic_model,X_train,y_train,X_test,y_test)\n",
    "\n",
    "# Random Forest 사용해 보기\n",
    "random_forest = RandomForestClassifier(random_state=32) # RandomForest 분류기 객체 생성\n",
    "random_forest_y_pred=model_fit_pred('RandomForestClassifier',random_forest,X_train,y_train,X_test,y_test)\n",
    "\n",
    "# SVM 사용해 보기\n",
    "svm_model = svm.SVC(random_state=32) # SVM 모델 객체 생성\n",
    "svm_model_y_pred=model_fit_pred('svm_model',svm_model,X_train,y_train,X_test,y_test)\n",
    "\n",
    "# SGD Classifier 사용해 보기\n",
    "sgd_model = SGDClassifier(random_state=32) # SGD Classifier 모델 객체 생성\n",
    "sgd_model_y_pred=model_fit_pred('sgd_model',sgd_model,X_train,y_train,X_test,y_test)\n",
    "\n",
    "# Logistic Regression 사용해 보기\n",
    "logistic_model = LogisticRegression(max_iter=3000,random_state=32) # Logistic Regression  모델 객체 생성\n",
    "logistic_model_y_pred=model_fit_pred('logistic_model',logistic_model,X_train,y_train,X_test,y_test)"
   ]
  },
  {
   "cell_type": "code",
   "execution_count": 161,
   "metadata": {},
   "outputs": [
    {
     "name": "stdout",
     "output_type": "stream",
     "text": [
      "decision_tree_accuracy : 0.92105\n",
      "decision_tree_precision : 0.91828\n",
      "decision_tree_recall : 0.91461\n",
      "decision_tree_f1 : 0.91636\n",
      "-----------------------------------\n",
      "random_forest_accuracy : 0.93860\n",
      "random_forest_precision : 0.93382\n",
      "random_forest_recall : 0.93734\n",
      "random_forest_f1 : 0.93549\n",
      "-----------------------------------\n",
      "svm_model_accuracy : 0.86842\n",
      "svm_model_precision : 0.88119\n",
      "svm_model_recall : 0.84221\n",
      "svm_model_f1 : 0.85473\n",
      "-----------------------------------\n",
      "sgd_model_accuracy : 0.90351\n",
      "sgd_model_precision : 0.89710\n",
      "sgd_model_recall : 0.90032\n",
      "sgd_model_f1 : 0.89863\n",
      "-----------------------------------\n",
      "logistic_model_accuracy : 0.92105\n",
      "logistic_model_precision : 0.91828\n",
      "logistic_model_recall : 0.91461\n",
      "logistic_model_f1 : 0.91636\n",
      "-----------------------------------\n"
     ]
    }
   ],
   "source": [
    "score_print('decision_tree',y_test,decision_tree_y_pred)\n",
    "score_print('random_forest',y_test,random_forest_y_pred)\n",
    "score_print('svm_model',y_test,svm_model_y_pred)\n",
    "score_print('sgd_model',y_test,sgd_model_y_pred)\n",
    "score_print('logistic_model',y_test,logistic_model_y_pred)"
   ]
  },
  {
   "cell_type": "code",
   "execution_count": 148,
   "metadata": {},
   "outputs": [
    {
     "name": "stdout",
     "output_type": "stream",
     "text": [
      "SVM Accuracy: 0.9649\n",
      "SGD Accuracy: 0.9825\n"
     ]
    }
   ],
   "source": [
    "# 데이터 스케일링\n",
    "scaler = StandardScaler()\n",
    "X_train_scaled = scaler.fit_transform(X_train)\n",
    "X_test_scaled = scaler.transform(X_test)\n",
    "\n",
    "\n",
    "# Decision Tree 사용해 보기\n",
    "decision_tree = DecisionTreeClassifier(random_state=32) # decisionTree 분류기 객체 생성\n",
    "decision_tree_y_pred=model_fit_pred('DecisionTreeClassifier',logistic_model,X_train,y_train,X_test,y_test)\n",
    "\n",
    "# Random Forest 사용해 보기\n",
    "random_forest = RandomForestClassifier(random_state=32) # RandomForest 분류기 객체 생성\n",
    "random_forest_y_pred=model_fit_pred('RandomForestClassifier',random_forest,X_train,y_train,X_test,y_test)\n",
    "\n",
    "# SVM 사용해 보기\n",
    "#svm_model = svm.SVC(random_state=32) # SVM 모델 객체 생성\n",
    "svm_model = SVC(kernel='rbf', C=10, gamma=0.1)  # 이 값들은 일반적으로 좋은 성능을 보이는 값들입니다. 하지만 최적의 값은 데이터에 따라 다를 수 있습니다.\n",
    "svm_model_y_pred=model_fit_pred('svm_model',svm_model,X_train,y_train,X_test,y_test)\n",
    "\n",
    "# SGD Classifier 사용해 보기\n",
    "sgd_model = SGDClassifier(random_state=32) # SGD Classifier 모델 객체 생성\n",
    "sgd_model_y_pred=model_fit_pred('sgd_model',sgd_model,X_train,y_train,X_test,y_test)\n",
    "\n",
    "# Logistic Regression 사용해 보기\n",
    "logistic_model = LogisticRegression(max_iter=3000,random_state=32) # Logistic Regression  모델 객체 생성\n",
    "logistic_model_y_pred=model_fit_pred('logistic_model',logistic_model,X_train,y_train,X_test,y_test)\n",
    "\n",
    "\n",
    "\n",
    "# SVM 모델 학습 및 평가\n",
    "svm_model = SVC(kernel='rbf', C=10, gamma=0.1)  # 이 값들은 일반적으로 좋은 성능을 보이는 값들입니다. 하지만 최적의 값은 데이터에 따라 다를 수 있습니다.\n",
    "svm_model_y_pred=model_fit_pred('svm_model',svm_model,X_train,y_train,X_test,y_test)\n",
    "\n",
    "\n",
    "svm_model.fit(X_train_scaled, y_train)\n",
    "svm_pred = svm_model.predict(X_test_scaled)\n",
    "svm_accuracy = accuracy_score(y_test, svm_pred)\n",
    "print(f\"SVM Accuracy: {svm_accuracy:.4f}\")\n",
    "\n",
    "# SGD 모델 학습 및 평가\n",
    "sgd_model = SGDClassifier(loss='hinge', penalty='l2', alpha=0.001, max_iter=1000, random_state=42)\n",
    "sgd_model.fit(X_train_scaled, y_train)\n",
    "sgd_pred = sgd_model.predict(X_test_scaled)\n",
    "sgd_accuracy = accuracy_score(y_test, sgd_pred)\n",
    "print(f\"SGD Accuracy: {sgd_accuracy:.4f}\")"
   ]
  },
  {
   "cell_type": "code",
   "execution_count": null,
   "metadata": {},
   "outputs": [
    {
     "name": "stdout",
     "output_type": "stream",
     "text": [
      "svm_model_accuracy : 0.94444\n",
      "svm_model_precision : 0.93333\n",
      "svm_model_recall : 0.93333\n",
      "svm_model_f1 : 0.93333\n",
      "-----------------------------------\n",
      "sgd_model_accuracy : 0.94444\n",
      "sgd_model_precision : 0.93333\n",
      "sgd_model_recall : 0.93333\n",
      "sgd_model_f1 : 0.93333\n",
      "-----------------------------------\n"
     ]
    }
   ],
   "source": [
    "score_print('svm_model',y_test,svm_pred)\n",
    "score_print('sgd_model',y_test,sgd_pred)"
   ]
  }
 ],
 "metadata": {
  "kernelspec": {
   "display_name": "base",
   "language": "python",
   "name": "python3"
  },
  "language_info": {
   "codemirror_mode": {
    "name": "ipython",
    "version": 3
   },
   "file_extension": ".py",
   "mimetype": "text/x-python",
   "name": "python",
   "nbconvert_exporter": "python",
   "pygments_lexer": "ipython3",
   "version": "3.10.9"
  },
  "orig_nbformat": 4
 },
 "nbformat": 4,
 "nbformat_minor": 2
}
